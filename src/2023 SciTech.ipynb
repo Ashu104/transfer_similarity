{
 "cells": [
  {
   "cell_type": "markdown",
   "id": "d001f534",
   "metadata": {
    "heading_collapsed": true
   },
   "source": [
    "#### Notebook setup"
   ]
  },
  {
   "cell_type": "code",
   "execution_count": null,
   "id": "5a776232",
   "metadata": {
    "hidden": true
   },
   "outputs": [],
   "source": [
    "%reload_ext autoreload\n",
    "%autoreload 2\n",
    "%matplotlib inline\n",
    "\n",
    "import notebook_setup\n",
    "import time\n",
    "import warnings\n",
    "import os, sys\n",
    "from copy import deepcopy\n",
    "from types import SimpleNamespace\n",
    "from itertools import permutations\n",
    "\n",
    "import matplotlib.pyplot as plt\n",
    "import gym\n",
    "import numpy as np\n",
    "from numpy.linalg import norm\n",
    "from tqdm.auto import tqdm, trange\n",
    "\n",
    "from systems.trajplanning import TrajEnv as TrajEnvOG\n",
    "from systems.plotting import plot_env_response\n",
    "from rl import learn_rl, transform_rl_policy\n",
    "from xform import (\n",
    "    policy_transform,\n",
    "    ab_xform_from_pseudo_matrix, pseudo_matrix_from_data,\n",
    "    err_inv\n",
    ")"
   ]
  },
  {
   "cell_type": "markdown",
   "id": "9a31149f",
   "metadata": {
    "heading_collapsed": true
   },
   "source": [
    "### Parameters"
   ]
  },
  {
   "cell_type": "code",
   "execution_count": null,
   "id": "1ba2a2fe",
   "metadata": {
    "hidden": true,
    "scrolled": false
   },
   "outputs": [],
   "source": [
    "# Tarot T18 params\n",
    "bp = BatteryParams(max_voltage=22.2)\n",
    "mp = MotorParams(\n",
    "    moment_of_inertia=5e-5,\n",
    "    # resistance=0.27,\n",
    "    resistance=0.081,\n",
    "    k_emf=0.0265,\n",
    "    # k_motor=0.0932,\n",
    "    speed_voltage_scaling=0.0347,\n",
    "    max_current=38.\n",
    ")\n",
    "pp = PropellerParams(\n",
    "    moment_of_inertia=1.86e-6,\n",
    "    use_thrust_constant=True,\n",
    "    k_thrust=9.8419e-05, # 18-inch propeller\n",
    "    # k_thrust=5.28847e-05, # 15 inch propeller\n",
    "    k_drag=1.8503e-06, # 18-inch propeller\n",
    "    # k_drag=1.34545e-06, # 15-inch propeller\n",
    "    motor=mp\n",
    ")\n",
    "vp = VehicleParams(\n",
    "    propellers=[pp] * 8,\n",
    "    battery=bp,\n",
    "    # angles in 45 deg increments, rotated to align with\n",
    "    # model setup in gazebo sim (not part of this repo)\n",
    "    angles=np.linspace(0, -2*np.pi, num=8, endpoint=False) + 0.375 * np.pi,\n",
    "    distances=np.ones(8) * 0.635,\n",
    "    clockwise=[-1,1,-1,1,-1,1,-1,1],\n",
    "    mass=10.66,\n",
    "    inertia_matrix=np.asarray([\n",
    "        [0.2206, 0, 0],\n",
    "        [0, 0.2206, 0.],\n",
    "        [0, 0, 0.4238]\n",
    "    ])\n",
    ")\n",
    "sp = SimulationParams(dt=0.001, g=9.81)"
   ]
  },
  {
   "cell_type": "markdown",
   "id": "17f3b34d",
   "metadata": {
    "heading_collapsed": true
   },
   "source": [
    "### Multirotor"
   ]
  },
  {
   "cell_type": "markdown",
   "id": "0505e4f6",
   "metadata": {
    "heading_collapsed": true,
    "hidden": true
   },
   "source": [
    "#### Motor"
   ]
  },
  {
   "cell_type": "code",
   "execution_count": null,
   "id": "b3128c10",
   "metadata": {
    "hidden": true
   },
   "outputs": [],
   "source": [
    "%matplotlib inline\n",
    "# Plot motor speeds as a function of time and input voltage signal\n",
    "plt.figure(figsize=(8,8))\n",
    "motor = Motor(mp, sp)\n",
    "for signal in [2, 4, 6, 8, 10, 12, 14, 16, 18, 20]:\n",
    "    speeds = []\n",
    "    motor.reset()\n",
    "    for i in range(200):\n",
    "        speeds.append(motor.step(signal))\n",
    "    plt.plot(speeds, label='%dV' % signal)\n",
    "plt.legend(ncol=2)\n",
    "plt.ylabel('Speed rad/s')\n",
    "plt.xlabel('Time /ms')"
   ]
  },
  {
   "cell_type": "code",
   "execution_count": null,
   "id": "42ebfb97",
   "metadata": {
    "hidden": true
   },
   "outputs": [],
   "source": [
    "from multirotor.helpers import learn_speed_voltage_scaling\n",
    "\n",
    "def make_motor_fn(params, sp):\n",
    "    from copy import deepcopy\n",
    "    params = deepcopy(params)\n",
    "    params.speed_voltage_scaling = 1.\n",
    "    def motor_step(signal):\n",
    "        m = Motor(params, sp)\n",
    "        for i in range(100):\n",
    "            s = m.step(signal)\n",
    "        return s\n",
    "    return motor_step\n",
    "\n",
    "print('Voltage = %.5f * speed' % (learn_speed_voltage_scaling(make_motor_fn(mp, sp))))"
   ]
  },
  {
   "cell_type": "markdown",
   "id": "6fb2f5c9",
   "metadata": {
    "heading_collapsed": true,
    "hidden": true
   },
   "source": [
    "#### Propeller"
   ]
  },
  {
   "cell_type": "code",
   "execution_count": null,
   "id": "1669687b",
   "metadata": {
    "hidden": true
   },
   "outputs": [],
   "source": [
    "%matplotlib inline\n",
    "# Plot propeller speed by numerically solving the thrust equation,\n",
    "# *if* accurate propeller measurements are given in params\n",
    "pp_ = deepcopy(pp)\n",
    "pp_.use_thrust_constant = False # Set to true to just use k_thrust\n",
    "prop = Propeller(pp_, sp)\n",
    "plt.figure(figsize=(8,8))\n",
    "speeds = np.linspace(0, 600, num=100)\n",
    "for a in np.linspace(0, 10, 10, endpoint=False):\n",
    "    thrusts = []\n",
    "    for s in speeds:\n",
    "        thrusts.append(prop.thrust(s, np.asarray([0, 0, a])))\n",
    "    plt.plot(speeds, thrusts, label='%.1f m/s' % a)\n",
    "plt.xlabel('Speed rad/s')\n",
    "plt.ylabel('Thrust /N')\n",
    "plt.title('Thrust with airspeed')\n",
    "plt.legend(ncol=2)"
   ]
  },
  {
   "cell_type": "markdown",
   "id": "e7bb489d",
   "metadata": {
    "heading_collapsed": true,
    "hidden": true
   },
   "source": [
    "#### Vehicle"
   ]
  },
  {
   "cell_type": "code",
   "execution_count": null,
   "id": "ecc23e14",
   "metadata": {
    "hidden": true
   },
   "outputs": [],
   "source": [
    "# Combine propeller/motor/vehicle to get vehicle.\n",
    "# Take off simulation\n",
    "m = Multirotor(vp, sp)\n",
    "log = DataLog(vehicle=m) # convenient logging class\n",
    "m.reset()\n",
    "m.state *= 0 # set to zero, reset() sets random values\n",
    "action = m.allocate_control(\n",
    "    thrust=m.weight * 1.1,\n",
    "    torques=np.asarray([0, 0, 0])\n",
    ")\n",
    "for i in range(500):\n",
    "    m.step_speeds(action)\n",
    "    log.log()\n",
    "log.done_logging()\n",
    "plt.plot(log.z)"
   ]
  },
  {
   "cell_type": "markdown",
   "id": "2c6535f4",
   "metadata": {
    "heading_collapsed": true
   },
   "source": [
    "### PID Controller"
   ]
  },
  {
   "cell_type": "code",
   "execution_count": null,
   "id": "33984887",
   "metadata": {
    "hidden": true
   },
   "outputs": [],
   "source": [
    "# From PID parameters file\n",
    "def get_controller(m: Multirotor):\n",
    "    pos = PosController(\n",
    "        1.0, 0., 0., 1., dt=m.simulation.dt, vehicle=m)\n",
    "    vel = VelController(\n",
    "        2.0, 1.0, 0.5, 1000., dt=m.simulation.dt, vehicle=m)\n",
    "    att = AttController(\n",
    "        [2.6875, 4.5, 4.5],\n",
    "        0, 0.,\n",
    "        1., dt=m.simulation.dt, vehicle=m)\n",
    "    rat = RateController(\n",
    "        [0.1655, 0.1655, 0.5],\n",
    "        [0.135, 0.135, 0.018],\n",
    "        [0.01234, 0.01234, 0.],\n",
    "        [0.5,0.5,0.5], dt=m.simulation.dt, vehicle=m)\n",
    "    alt = AltController(\n",
    "        1, 0, 0,\n",
    "        1, dt=m.simulation.dt, vehicle=m)\n",
    "    alt_rate = AltRateController(\n",
    "        5, 0, 0,\n",
    "        1, dt=m.simulation.dt, vehicle=m)\n",
    "    ctrl = Controller(\n",
    "        pos, vel, att, rat, alt, alt_rate\n",
    "    )\n",
    "    return ctrl"
   ]
  },
  {
   "cell_type": "code",
   "execution_count": null,
   "id": "d21d73fe",
   "metadata": {
    "hidden": true
   },
   "outputs": [],
   "source": [
    "%matplotlib inline\n",
    "m = Multirotor(vp, sp)\n",
    "ctrl = get_controller(m)\n",
    "log = DataLog(controller=ctrl)\n",
    "for i in range(100):\n",
    "    action = ctrl.step((1,1,1,0))\n",
    "    log.log()\n",
    "log.done_logging()\n",
    "\n",
    "plt.plot(log.actions[:,0], ls=':', label='thrust')\n",
    "lines = plt.gca().lines\n",
    "plt.twinx()\n",
    "for s, axis in zip(log.actions.T[1:], ('x','y','z')):\n",
    "    plt.plot(s, label=axis + '-torque')\n",
    "plt.legend(handles=plt.gca().lines + lines)"
   ]
  },
  {
   "cell_type": "markdown",
   "id": "cfbc9c25",
   "metadata": {
    "heading_collapsed": true,
    "hidden": true
   },
   "source": [
    "#### Attitude Angle Controller"
   ]
  },
  {
   "cell_type": "code",
   "execution_count": null,
   "id": "f012e1f8",
   "metadata": {
    "hidden": true
   },
   "outputs": [],
   "source": [
    "m = Multirotor(vp, sp)\n",
    "fz = m.weight\n",
    "att =  get_controller(m).ctrl_a\n",
    "log = DataLog(vehicle=m, controller=att, other_vars=('err',))\n",
    "for i in range(5000):\n",
    "    ref = np.asarray([np.pi/18, 0, 0])\n",
    "    # action is prescribed euler rate\n",
    "    action = att.step(ref, m.orientation)\n",
    "    # action = np.clip(action, a_min=-0.1, a_max=0.1)\n",
    "    m.step_dynamics(np.asarray([0, 0, 0, *action]))\n",
    "    log.log(err=att.err_p[0])\n",
    "    log._actions[-1] = action\n",
    "log.done_logging()\n",
    "\n",
    "plt.plot(log.roll * 180 / np.pi)\n",
    "plt.twinx()\n",
    "plt.plot(log.actions[:,0], ls=':', label='Rate rad/s')"
   ]
  },
  {
   "cell_type": "markdown",
   "id": "fdbd88c1",
   "metadata": {
    "heading_collapsed": true,
    "hidden": true
   },
   "source": [
    "#### Attitude Rate Controller"
   ]
  },
  {
   "cell_type": "code",
   "execution_count": null,
   "id": "9cc3b317",
   "metadata": {
    "hidden": true
   },
   "outputs": [],
   "source": [
    "m = Multirotor(vp, sp)\n",
    "fz = m.weight\n",
    "ctrl = get_controller(m)\n",
    "rat = ctrl.ctrl_r\n",
    "att = ctrl.ctrl_a\n",
    "log = DataLog(vehicle=m, controller=rat, other_vars=('err',))\n",
    "for i in range(5000):\n",
    "    ref = np.asarray([np.pi/18, 0, 0])\n",
    "    rate = att.step(ref, m.orientation)\n",
    "    action = rat.step(rate, m.euler_rate)\n",
    "    action = np.clip(action, a_min=-0.1, a_max=0.1)\n",
    "    m.step_dynamics(np.asarray([0, 0, 0, *action]))\n",
    "    log.log(err=rat.err_p[0])\n",
    "    log._actions[-1] = action\n",
    "log.done_logging()\n",
    "\n",
    "plt.plot(log.roll * 180 / np.pi)\n",
    "plt.twinx()\n",
    "plt.plot(log.actions[:,0], ls=':')"
   ]
  },
  {
   "cell_type": "markdown",
   "id": "6370aa80",
   "metadata": {
    "heading_collapsed": true,
    "hidden": true
   },
   "source": [
    "#### Altitude Controller"
   ]
  },
  {
   "cell_type": "code",
   "execution_count": null,
   "id": "5fcd0d24",
   "metadata": {
    "hidden": true
   },
   "outputs": [],
   "source": [
    "m = Multirotor(vp, sp)\n",
    "ctrl = get_controller(m)\n",
    "alt = ctrl.ctrl_z\n",
    "alt_rate = ctrl.ctrl_vz\n",
    "log = DataLog(vehicle=m, controller=alt, other_vars=('thrust',))\n",
    "for i in range(5000):\n",
    "    ref = np.asarray([1.])\n",
    "    rate = alt.step(ref, m.position[2:])\n",
    "    action = alt_rate.step(rate, m.world_velocity[2:])\n",
    "    action = np.clip(action, a_min=-2*m.weight, a_max=2*m.weight)\n",
    "    m.step_dynamics(np.asarray([0, 0, action[0], 0,0,0]))\n",
    "    log.log(thrust=action)\n",
    "    #log._actions[-1] = action\n",
    "log.done_logging()\n",
    "\n",
    "plt.plot(log.actions.squeeze())\n",
    "plt.twinx()\n",
    "plt.plot(log.z, ls=':')"
   ]
  },
  {
   "cell_type": "markdown",
   "id": "f4278c17",
   "metadata": {
    "hidden": true
   },
   "source": [
    "#### Position Controller"
   ]
  },
  {
   "cell_type": "code",
   "execution_count": null,
   "id": "91ae8919",
   "metadata": {
    "hidden": true
   },
   "outputs": [],
   "source": [
    "m = Multirotor(vp, sp)\n",
    "ctrl = get_controller(m)\n",
    "pos = ctrl.ctrl_p\n",
    "vel = ctrl.ctrl_v\n",
    "rat = ctrl.ctrl_r\n",
    "att = ctrl.ctrl_a\n",
    "log = DataLog(vehicle=m, controller=pos, other_vars=('err', 'att_actions'))\n",
    "for i in range(5000):\n",
    "    ref = np.asarray([1.,0.])\n",
    "    velocity = pos.step(ref, m.position[:2])\n",
    "    angles = vel.step(velocity, m.velocity[:2])[::-1]\n",
    "    rate = att.step(np.asarray([*angles, 0]), m.orientation)\n",
    "    action = rat.step(rate, m.euler_rate)\n",
    "    action = np.clip(action, a_min=-0.1, a_max=0.1)\n",
    "    m.step_dynamics(np.asarray([0, 0, m.weight, *action]))\n",
    "    log.log(err=pos.err_p[0], att_actions=action)\n",
    "log.done_logging()\n",
    "\n",
    "plt.plot(log.position[:,0])\n",
    "plt.plot(log.err)\n",
    "# plt.plot(log.position[:,1])\n",
    "plt.twinx()\n",
    "plt.plot(log.actions[:,0] * 180 / np.pi, ls=':')\n",
    "plt.plot(log.pitch * 180 / np.pi, ls='-.')\n",
    "# plt.plot(log.actions[:,0] * 180 / np.pi, ls=':')"
   ]
  },
  {
   "cell_type": "markdown",
   "id": "99e07c56",
   "metadata": {},
   "source": [
    "## Trajectory Adaption"
   ]
  },
  {
   "cell_type": "markdown",
   "id": "42018d6d",
   "metadata": {},
   "source": [
    "### Funcs"
   ]
  },
  {
   "cell_type": "code",
   "execution_count": null,
   "id": "415b99a7",
   "metadata": {},
   "outputs": [],
   "source": [
    "def plot_disturbance(fn, ax, xlims, ylims, n=10, transpose=False):\n",
    "    distx = np.zeros((n, n))\n",
    "    disty = np.zeros_like(distx)\n",
    "    xs = np.linspace(*xlims, num=n)\n",
    "    ys = np.linspace(*ylims, num=n)\n",
    "    for xi, x in enumerate(xs):\n",
    "        for yi, y in enumerate(ys):\n",
    "            vec = fn(0, (x,y))\n",
    "            distx[yi,xi] = vec[0]\n",
    "            if len(vec) > 1:\n",
    "                disty[yi,xi] = vec[1]\n",
    "    if transpose:\n",
    "        distx, disty = disty, distx\n",
    "    xx, yy = np.meshgrid(xs, ys)\n",
    "    distmag = np.sqrt(distx**2 + disty**2)\n",
    "    largest = np.max(distmag)\n",
    "    distx = distx * distmag / (largest + 1e-6)\n",
    "    disty = disty * distmag / (largest + 1e-6)\n",
    "    if ax is None:\n",
    "        plt.quiver(xx, yy, distx, disty, angles='xy')\n",
    "    else:\n",
    "        ax.quiver(xx, yy, distx, disty, angles='xy')\n",
    "\n",
    "def evaluate_planning(env, agent, pos, plot=True, axes=None):\n",
    "    poserr = -np.asarray(pos)\n",
    "    x = env.reset([*poserr,*np.zeros_like(poserr)])\n",
    "    ndim = env.ndim\n",
    "    positions = []\n",
    "    velocities = []\n",
    "    rewards = []\n",
    "    actions = []\n",
    "    done = False\n",
    "    while not done and env.t < 20:\n",
    "        action = agent.predict(x, deterministic=True)[0]\n",
    "        x, r, done, *_ = env.step(action)\n",
    "        actions.append(action)\n",
    "        positions.append(-x[:ndim])\n",
    "        velocities.append(x[ndim:])\n",
    "        rewards.append(r)\n",
    "    actions = np.asarray(actions).T\n",
    "    positions = np.asarray(positions).T\n",
    "    velocities = np.asarray(velocities).T\n",
    "    rewards = np.asarray(rewards)\n",
    "    \n",
    "    if plot:\n",
    "        t = np.arange(velocities.shape[1]) * env.dt\n",
    "        if axes is None:\n",
    "            plt.figure(figsize=(8,4))\n",
    "            _, (ax1, ax2) = plt.subplots(1,2)\n",
    "        else:\n",
    "            ax1, ax2 = axes\n",
    "        plt.sca(ax1)\n",
    "        if env.ndim==2:\n",
    "            shortest_path =  np.asarray([[0,0], env._start_pos]).T\n",
    "            plt.plot(positions[0], positions[1])\n",
    "            plt.plot(shortest_path[0], shortest_path[1], ls='--', c='k')\n",
    "            plot_disturbance(env.disturbance, None, (pos[0],0), (pos[1],0))\n",
    "            plt.axis('equal')\n",
    "            plt.title('Reward: %.2f' % sum(rewards))\n",
    "            plt.xlabel('x /m',c='r')\n",
    "            plt.ylabel('y /m',c='g')\n",
    "        elif env.ndim==1:\n",
    "            plt.plot(t, positions.squeeze())\n",
    "            plot_disturbance(env.disturbance, None, (0,t[-1]), (pos[0],0), transpose=True)\n",
    "            plt.xlabel('t /s')\n",
    "            plt.ylabel('x /m')\n",
    "        plt.sca(ax2)\n",
    "        lines = []\n",
    "        for name, v, c in zip('xyz', velocities, 'rgb'):\n",
    "            l, = plt.plot(t, v, label='vel-'+name, c=c)\n",
    "            lines.append(l)\n",
    "        plt.ylabel('Velocity / m/s')\n",
    "        plt.xlabel('Time /s')\n",
    "        plt.twinx()\n",
    "        for name, a, c in zip('xyz', actions, 'rgb'):\n",
    "            plt.plot(t, a, label='$\\Delta$'+name, ls=':', c=c)\n",
    "        for name, p, c in zip('xyz', positions, 'rgb'):\n",
    "            plt.plot(t, p, label=name, ls='-.', c=c)\n",
    "        plt.ylabel('Waypoint / m')\n",
    "        plt.legend(handles=lines +plt.gca().lines)\n",
    "        plt.xlabel('Time / s')\n",
    "        plt.tight_layout()\n",
    "    return sum(rewards)\n",
    "\n",
    "\n",
    "def adapt_traj(nominal, new, agent, steps=100, factor=50):\n",
    "    P_s = pseudo_matrix_from_data(TrajEnv(nominal), steps * factor, agent, 'steps')\n",
    "    P_t = pseudo_matrix_from_data(TrajEnv(new), steps, agent, 'steps')\n",
    "    i = SimpleNamespace()\n",
    "    i.A_s, i.B_s, i.A_t, i.B_t, i.F_A, i.F_B = \\\n",
    "        ab_xform_from_pseudo_matrix(P_s, P_t, TrajEnv().dt)\n",
    "    i.state_xform, i.action_xform = \\\n",
    "        policy_transform((i.A_s, i.B_s), xformA=i.F_A, xformB=i.F_B)\n",
    "    agent_new = transform_rl_policy(agent, i.state_xform, i.action_xform)\n",
    "    return agent_new, i\n",
    "\n",
    "\n",
    "def conditional_adapt(nominal, new, agent, factor=50, rtol=1.0):\n",
    "    infos = []\n",
    "    for steps in trange(100, 2000, 200, leave=False):\n",
    "        nA_s, nB_s, nF_A, nF_B, nxxform, nuxform = 1,1,1,1,1,1\n",
    "        dA_s, dB_s, dF_A, dF_B, dxxform, duxform = 1,1,1,1,1,1\n",
    "\n",
    "        agent_new, i = adapt_traj(nominal, new, agent, steps, factor)\n",
    "        infos.append(i)\n",
    "\n",
    "        dA_s, nA_s = norm(i.A_s) / nA_s, norm(i.A_s)\n",
    "        dB_s, nB_s = norm(i.B_s) / nB_s, norm(i.B_s)\n",
    "        dF_A, nF_A = norm(i.F_A) / nF_A, norm(i.F_A)\n",
    "        dF_B, nF_B = norm(i.F_B) / nF_B, norm(i.F_B)\n",
    "        dxxform, nxxform = norm(i.state_xform) / nxxform, norm(i.state_xform)\n",
    "        duxform, nuxform = norm(i.action_xform) / nuxform, norm(i.action_xform)\n",
    "\n",
    "        if all([abs(1-d) <= rtol for d in (dA_s, dB_s, dF_A, dF_B, dxxform, duxform)]):\n",
    "            break\n",
    "    return agent_new, infos"
   ]
  },
  {
   "cell_type": "code",
   "execution_count": null,
   "id": "a1932d93",
   "metadata": {},
   "outputs": [],
   "source": [
    "ndim = 2\n",
    "class TrajEnv(TrajEnvOG):\n",
    "    def __init__( self, disturbance=lambda t, x: 0., dt=1e-1, ndim=ndim, seed=0):\n",
    "        super().__init__(disturbance=disturbance, dt=dt, ndim=ndim, seed=seed)\n",
    "\n",
    "# Nominal case\n",
    "class DummyAgent:\n",
    "    \n",
    "    def predict(self, u, *args, **kwargs):\n",
    "        return np.zeros(ndim, np.float32), None\n",
    "\n",
    "def make_disturbance(angle, mag=1):\n",
    "    dx, dy = mag * np.cos(angle), mag * np.sin(angle)\n",
    "    arr = np.asarray([dx, dy], np.float32)\n",
    "    if ndim==1:\n",
    "        arr = arr[:1]\n",
    "    def dist(t, x):\n",
    "        return arr\n",
    "    return dist"
   ]
  },
  {
   "cell_type": "markdown",
   "id": "a5fcdaaa",
   "metadata": {},
   "source": [
    "### Experiments"
   ]
  },
  {
   "cell_type": "code",
   "execution_count": null,
   "id": "c0caa4c9",
   "metadata": {},
   "outputs": [],
   "source": [
    "def nominal_disturbance(t, x):\n",
    "    return np.asarray([0,0], np.float32)[:ndim]\n",
    "angles = np.linspace(0, 2 * np.pi, num=8)\n",
    "dists = (\n",
    "    nominal_disturbance,\n",
    "    *[make_disturbance(a) for a in angles],\n",
    ")\n",
    "pos = (5,5)[:ndim]"
   ]
  },
  {
   "cell_type": "code",
   "execution_count": null,
   "id": "7e1f1d1c",
   "metadata": {
    "scrolled": false
   },
   "outputs": [],
   "source": [
    "# Learn nominal behavior\n",
    "learn_kwargs = dict(\n",
    "    steps=150_000, n_steps=1800, gamma=0.99, batch_size=300, learning_rate=5e-4\n",
    ")\n",
    "agents = []\n",
    "for d in tqdm(dists, leave=False):\n",
    "    agents.append(\n",
    "        learn_rl(TrajEnv(d), **learn_kwargs, tensorboard_log=None)\n",
    "    )\n",
    "# agent_west = learn_rl(TrajEnv(west_disturbance), **learn_kwargs, tensorboard_log='TrajEnv/%dd/West' % ndim)\n",
    "# agent_east = learn_rl(TrajEnv(east_disturbance), **learn_kwargs, tensorboard_log='TrajEnv/%dd/East' % ndim)\n",
    "# agent_north = learn_rl(TrajEnv(north_disturbance), **learn_kwargs, tensorboard_log='TrajEnv/$dd/North' % ndim)\n",
    "# agent_south = learn_rl(TrajEnv(south_disturbance), **learn_kwargs, tensorboard_log='TrajEnv/$dd/South' % ndim)\n",
    "\n",
    "# agents = (\n",
    "#     agent_nominal,\n",
    "#     agent_west, agent_east,\n",
    "#     # agent_north, agent_south\n",
    "# )"
   ]
  },
  {
   "cell_type": "markdown",
   "id": "d42af606",
   "metadata": {},
   "source": [
    "#### Adaptation fidelity"
   ]
  },
  {
   "cell_type": "code",
   "execution_count": null,
   "id": "c5062f45",
   "metadata": {
    "scrolled": false
   },
   "outputs": [],
   "source": [
    "Ro, R, R_ = [], [], []\n",
    "plt.figure(figsize=(8,16))\n",
    "for j in trange(0, 8, 1, leave=False):\n",
    "    agent = agents[j+1]\n",
    "    env = TrajEnv(dists[j+1])\n",
    "    angle = angles[j]\n",
    "    rewards, ropt, rold, deltar, errs = [], [], [], [], []\n",
    "    for i, ang in enumerate(tqdm(angles, leave=False)):\n",
    "        dist = dists[i+1]\n",
    "        agent_new, info = adapt_traj(env.disturbance, dist, agent, steps=100, factor=1)\n",
    "        ro = evaluate_planning(TrajEnv(dist), agent, pos, plot=False)\n",
    "        r_ = evaluate_planning(TrajEnv(dist), agents[i+1], pos, plot=False) \n",
    "        r = evaluate_planning(TrajEnv(dist), agent_new, pos, plot=False)\n",
    "        rewards.append(r)\n",
    "        ropt.append(r_)\n",
    "        rold.append(ro)\n",
    "        errs.append(e)\n",
    "    Ro.append(np.roll(rold, -j))\n",
    "    R.append(np.roll(rewards, -j))\n",
    "    R_.append(np.roll(ropt, -j))\n",
    "    plt.subplot(8,1,j+1)\n",
    "    plt.title('Nominal angle: %.2f $^\\circ$' % (angle * 180/np.pi))\n",
    "    plt.xlabel('Disturbance angle /$^\\circ$')\n",
    "    plt.ylabel('Reward')\n",
    "    plt.plot(angles * 180/np.pi, rewards, label='$r_{adapted}$', c='c')\n",
    "    # plt.plot(angles * 180/np.pi, rold, label='$r_{applied}$', c='b', ls='-.')\n",
    "    plt.plot(angles * 180/np.pi, ropt, label='$r_{opt}$', c='r', ls=':')\n",
    "    plt.axvline(x=angle * 180/np.pi, c='k')\n",
    "plt.legend(handles=plt.gca().lines)\n",
    "plt.tight_layout()"
   ]
  },
  {
   "cell_type": "code",
   "execution_count": null,
   "id": "044069ba",
   "metadata": {},
   "outputs": [],
   "source": [
    "plt.figure(figsize=(8,3))\n",
    "plt.xlabel('Relative disturbance angle $^\\circ$')\n",
    "plt.ylabel('Reward')\n",
    "RRo5 = [np.roll(r, 0) for i,r in enumerate(Ro)]\n",
    "RR5 = [np.roll(r, 0) for i,r in enumerate(R)]\n",
    "RR_5 = [np.roll(r, 0) for i,r in enumerate(R_)]\n",
    "plt.plot(angles * 180/np.pi, np.mean(RR5, axis=0), label='$r_{adapted}$', c='c')\n",
    "# plt.plot(angles * 180/np.pi, np.mean(RRo, axis=0), label='$r_{applied}$', c='m', ls='-.')\n",
    "plt.plot(angles * 180/np.pi, np.mean(RR_5, axis=0), label='$r_{opt}$', c='r', ls=':')\n",
    "plt.legend(handles=plt.gca().lines)"
   ]
  },
  {
   "cell_type": "code",
   "execution_count": null,
   "id": "17bdb84b",
   "metadata": {},
   "outputs": [],
   "source": [
    "plt.figure(figsize=(8,3))\n",
    "plt.xlabel('Relative disturbance angle $^\\circ$')\n",
    "plt.ylabel('Reward')\n",
    "RRo1 = [np.roll(r, 0) for i,r in enumerate(Ro)]\n",
    "RR1 = [np.roll(r, 0) for i,r in enumerate(R)]\n",
    "RR_1 = [np.roll(r, 0) for i,r in enumerate(R_)]\n",
    "plt.plot(angles * 180/np.pi, np.mean(RR1, axis=0), label='$r_{adapted}$', c='c')\n",
    "# plt.plot(angles * 180/np.pi, np.mean(RRo, axis=0), label='$r_{applied}$', c='m', ls='-.')\n",
    "plt.plot(angles * 180/np.pi, np.mean(RR_1, axis=0), label='$r_{opt}$', c='r', ls=':')\n",
    "plt.legend(handles=plt.gca().lines)"
   ]
  },
  {
   "cell_type": "code",
   "execution_count": null,
   "id": "2092c9e0",
   "metadata": {},
   "outputs": [],
   "source": [
    "plt.figure(figsize=(8,3))\n",
    "plt.xlabel('Relative disturbance angle $^\\circ$')\n",
    "plt.ylabel('Reward')\n",
    "RRo2 = [np.roll(r, 0) for i,r in enumerate(Ro)]\n",
    "RR2 = [np.roll(r, 0) for i,r in enumerate(R)]\n",
    "RR_2 = [np.roll(r, 0) for i,r in enumerate(R_)]\n",
    "plt.plot(angles * 180/np.pi, np.mean(RR2, axis=0), label='$r_{adapted}$', c='c')\n",
    "# plt.plot(angles * 180/np.pi, np.mean(RRo, axis=0), label='$r_{applied}$', c='m', ls='-.')\n",
    "plt.plot(angles * 180/np.pi, np.mean(RR_2, axis=0), label='$r_{opt}$', c='r', ls=':')\n",
    "plt.legend(handles=plt.gca().lines)"
   ]
  },
  {
   "cell_type": "code",
   "execution_count": null,
   "id": "43fa3451",
   "metadata": {},
   "outputs": [],
   "source": [
    "plt.figure(figsize=(8,3))\n",
    "plt.xlabel('Relative disturbance angle $^\\circ$')\n",
    "plt.ylabel('Reward')\n",
    "plt.plot(angles * 180/np.pi, np.mean(RR5, axis=0), label='$r_{adapted, 0.2}$', c='c')\n",
    "plt.plot(angles * 180/np.pi, np.mean(RR1, axis=0), label='$r_{adapted,1.0}$', c='m')\n",
    "plt.plot(angles * 180/np.pi, np.mean(RR2, axis=0), label='$r_{adapted,5.0}$', c='y')\n",
    "# plt.plot(angles * 180/np.pi, np.mean(RRo, axis=0), label='$r_{applied}$', c='m', ls='-.')\n",
    "plt.plot(angles * 180/np.pi, np.mean(RR_1, axis=0), label='$r_{opt}$', c='r', ls=':')\n",
    "plt.legend(handles=plt.gca().lines)"
   ]
  },
  {
   "cell_type": "code",
   "execution_count": null,
   "id": "37dde62e",
   "metadata": {},
   "outputs": [],
   "source": [
    "def new_disturbance(t, pos):\n",
    "    return np.asarray([0.01, 0.7], np.float32)\n",
    "new_dist = new_disturbance\n",
    "P_s = pseudo_matrix_from_data(TrajEnv(east_disturbance), 5000, agent_east, 'steps')\n",
    "P_t = pseudo_matrix_from_data(TrajEnv(new_dist), 100, agent_east, 'steps')\n",
    "A_s, B_s, A_t, B_t, F_A, F_B = ab_xform_from_pseudo_matrix(P_s, P_t, TrajEnv().dt)\n",
    "state_xform, action_xform = policy_transform((A_s, B_s), xformA=F_A, xformB=F_B)\n",
    "agent_new = transform_rl_policy(agent_east, state_xform, action_xform)"
   ]
  },
  {
   "cell_type": "code",
   "execution_count": null,
   "id": "4913a7ab",
   "metadata": {},
   "outputs": [],
   "source": [
    "from systems.base import SystemEnv\n",
    "import control\n",
    "class DDTraj(SystemEnv):\n",
    "    def __init__(self, sys):\n",
    "        super().__init__(sys, dt=TrajEnv().dt)\n",
    "        self.observation_space = TrajEnv().observation_space\n",
    "        self.action_space = TrajEnv().action_space\n",
    "        self.q = np.eye(ndim * 2)\n",
    "        self.r = np.eye(ndim)\n",
    "        self.period = TrajEnv().period\n",
    "    def step(self, action):\n",
    "        x,r,d,i = super().step(action)\n",
    "        d = self.dt * self.n >= self.period\n",
    "        return x,r,d,i\n",
    "C_s = np.eye(len(A_s))\n",
    "D_s = np.zeros_like(B_s)\n",
    "sys = control.ss(A_s, B_s, C_s, D_s)\n",
    "x0 = np.concatenate(([-5] * ndim, [0] * ndim)).astype(np.float32)\n",
    "plot_env_response(DDTraj(sys),x0, agent_nominal, max_steps=100)"
   ]
  },
  {
   "cell_type": "code",
   "execution_count": null,
   "id": "9242bfcf",
   "metadata": {},
   "outputs": [],
   "source": [
    "# Env response plots (states/actions over time)\n",
    "plt.figure(figsize=(12, 6))\n",
    "for i, (ag, dist, name) in enumerate([\n",
    "    (agent_nominal, nominal_disturbance, 'Nominal'),\n",
    "    (agent_west, west_disturbance, 'West'),\n",
    "    (agent_east, east_disturbance, 'East'),\n",
    "    # (agent_north, north_disturbance, 'North'),\n",
    "    # (agent_south, south_disturbance, 'South'),\n",
    "]):\n",
    "    x0 = np.concatenate(([-5] * ndim, [0] * ndim)).astype(np.float32)\n",
    "    plt.subplot(3,2,i+1)\n",
    "    plot_env_response(\n",
    "        TrajEnv(dist),\n",
    "        x0,\n",
    "        ag, state_idx=(0,1)[:ndim], state_names='xy'[:ndim]\n",
    "    )\n",
    "    title = plt.gca().get_title()\n",
    "    #plt.title(name + ' ' + title)\n",
    "plt.tight_layout()"
   ]
  },
  {
   "cell_type": "code",
   "execution_count": null,
   "id": "65dff257",
   "metadata": {
    "scrolled": false
   },
   "outputs": [],
   "source": [
    "# Plot nominal training\n",
    "plt.figure(figsize=(6, 12))\n",
    "for i, (ag, dist, name) in enumerate([\n",
    "    (agent_nominal, nominal_disturbance, 'Nominal'),\n",
    "    (agent_west, west_disturbance, 'West'),\n",
    "    (agent_east, east_disturbance, 'East'),\n",
    "    # (agent_north, north_disturbance, 'North'),\n",
    "    # (agent_south, south_disturbance, 'South'),\n",
    "]):\n",
    "    ax1 = plt.subplot(5,2,2*i+1)\n",
    "    ax2 = plt.subplot(5,2,2*i+2)\n",
    "    evaluate_planning(TrajEnv(dist), ag, pos, axes=(ax1, ax2))\n",
    "plt.tight_layout()"
   ]
  },
  {
   "cell_type": "code",
   "execution_count": null,
   "id": "8091019c",
   "metadata": {
    "scrolled": false
   },
   "outputs": [],
   "source": [
    "# Plot nominal on disturbed cases\n",
    "plt.figure(figsize=(12, 12))\n",
    "ag_dist = list(zip(agents, dists))\n",
    "for i, ((ag, old_dist), (ag_opt, new_dist)) in enumerate(permutations(ag_dist, 2)):\n",
    "    ag_new, info = adapt_traj(old_dist, new_dist, ag)\n",
    "    ax1, ax2 = plt.subplot(5,4,i*4+1), plt.subplot(5,4,i*4+2)\n",
    "    ax3, ax4 = plt.subplot(5,4,i*4+3), plt.subplot(5,4,i*4+4)\n",
    "    r = evaluate_planning(TrajEnv(new_dist), ag_new, pos, axes=(ax1, ax2))\n",
    "    plt.title('Rew: %.2f' % r)\n",
    "    r = evaluate_planning(TrajEnv(new_dist), ag, pos, axes=(ax3, ax4))\n",
    "    plt.title('Rew: %.2f' % r)\n",
    "    if i==4: break\n",
    "plt.tight_layout()"
   ]
  },
  {
   "cell_type": "code",
   "execution_count": null,
   "id": "266c748f",
   "metadata": {},
   "outputs": [],
   "source": [
    "angles = np.linspace(0, 2 * np.pi, num=12)\n",
    "def direction_performance(angles, agent, mag=1, nominal_disturbance=nominal_disturbance):\n",
    "    radapt, rnom = [], []\n",
    "    for angle in tqdm(angles, leave=False):\n",
    "        dx, dy = mag * np.cos(angle), mag * np.sin(angle)\n",
    "        d = np.asarray([dx, dy], np.float32)\n",
    "        def new_d(t, pos):\n",
    "            return d[:ndim]\n",
    "        anew, info = adapt_traj(nominal_disturbance, new_d, agent)\n",
    "        rew_nom = evaluate_planning(TrajEnv(new_d), agent, pos, plot=False)\n",
    "        rew_adapt = evaluate_planning(TrajEnv(new_d), anew, pos, plot=False)\n",
    "        rnom.append(rew_nom)\n",
    "        radapt.append(rew_adapt)\n",
    "    return rnom, radapt"
   ]
  },
  {
   "cell_type": "code",
   "execution_count": null,
   "id": "6c35346f",
   "metadata": {},
   "outputs": [],
   "source": [
    "plt.figure(figsize=(5,12))\n",
    "plt.subplot(7,1,1)\n",
    "plt.quiver(np.arange(len(angles)), np.zeros(len(angles)), np.cos(angles), np.sin(angles))\n",
    "\n",
    "plt.subplot(7,1,(2,3))\n",
    "rnom, radapt = direction_performance(angles, agent_nominal, 0.5, nominal_disturbance)\n",
    "plt.plot(rnom, label='Nominal')\n",
    "plt.plot(radapt, label='Adapted', ls=':')\n",
    "\n",
    "plt.subplot(7,1,(4,5))\n",
    "rnom, radapt = direction_performance(angles, agent_nominal, 1.0, nominal_disturbance)\n",
    "plt.plot(rnom, label='Nominal')\n",
    "plt.plot(radapt, label='Adapted', ls=':')\n",
    "plt.legend()\n",
    "\n",
    "plt.subplot(7,1,(6,7))\n",
    "rnom, radapt = direction_performance(angles, agent_nominal, 1.5, nominal_disturbance)\n",
    "plt.plot(rnom, label='Nominal')\n",
    "plt.plot(radapt, label='Adapted', ls=':')\n",
    "plt.legend()"
   ]
  },
  {
   "cell_type": "markdown",
   "id": "9eb34672",
   "metadata": {
    "heading_collapsed": true
   },
   "source": [
    "### Simulation"
   ]
  },
  {
   "cell_type": "code",
   "execution_count": null,
   "id": "f5f52df4",
   "metadata": {
    "hidden": true
   },
   "outputs": [],
   "source": [
    "def wind(t, m, nominal=False):\n",
    "    if nominal:\n",
    "        return np.zeros(3)\n",
    "    w_inertial = np.asarray([5 * np.sin(t * 2 * np.pi / 4000), 0, 0])\n",
    "    dcm = direction_cosine_matrix(*m.orientation)\n",
    "    return inertial_to_body(w_inertial, dcm)"
   ]
  },
  {
   "cell_type": "code",
   "execution_count": null,
   "id": "a98de44f",
   "metadata": {
    "hidden": true,
    "scrolled": false
   },
   "outputs": [],
   "source": [
    "def run_sim(env, traj, steps=60_000, disturbance=None):\n",
    "    ctrl = get_controller(env.vehicle, max_velocity=5.)\n",
    "\n",
    "    log = DataLog(env.vehicle, ctrl,\n",
    "                  other_vars=('speeds','target', 'alloc_errs', 'att_err',\n",
    "                              'rate_target', 'att_target',\n",
    "                              'leash', 'currents', 'voltages'))\n",
    "    disturb_force, disturb_torque = 0., 0\n",
    "    for i, (pos, feed_forward_vel) in tqdm(\n",
    "        enumerate(traj), leave=False, total=steps\n",
    "    ):\n",
    "        if i==steps: break\n",
    "        # Generate reference for controller\n",
    "        ref = np.asarray([*pos, 0.])\n",
    "        # Get prescribed dynamics for system as thrust and torques\n",
    "        dynamics = ctrl.step(ref, feed_forward_velocity=feed_forward_vel)\n",
    "        thrust, torques = dynamics[0], dynamics[1:]\n",
    "        # Allocate control: Convert dynamics into motor rad/s\n",
    "        action = env.vehicle.allocate_control(thrust, torques)\n",
    "        # get any disturbances\n",
    "        if disturbance is not None:\n",
    "            disturb_force, disturb_torque = disturbance(i, env.vehicle)\n",
    "        # Send speeds to environment\n",
    "        state, *_ = env.step(\n",
    "            action, disturb_forces=disturb_force, disturb_torques=disturb_torque\n",
    "        )\n",
    "        alloc_errs = np.asarray([thrust, *torques]) - env.vehicle.alloc @ action**2\n",
    "\n",
    "        log.log(speeds=action, target=pos, alloc_errs=alloc_errs,\n",
    "                leash=ctrl.ctrl_p.leash,\n",
    "                att_err=ctrl.ctrl_a.err,\n",
    "                att_target = ctrl.ctrl_v.action[::-1],\n",
    "                rate_target=ctrl.ctrl_a.action,\n",
    "                currents=[p.motor.current for p in env.vehicle.propellers],\n",
    "                voltages=[p.motor.voltage for p in env.vehicle.propellers])\n",
    "\n",
    "        if np.any(np.abs(env.vehicle.orientation[:2]) > np.pi/6): break\n",
    "\n",
    "    log.done_logging()\n",
    "    return log"
   ]
  },
  {
   "cell_type": "code",
   "execution_count": null,
   "id": "62689b31",
   "metadata": {
    "hidden": true
   },
   "outputs": [],
   "source": [
    "env = LocalOctorotor(vehicle=Multirotor(vp, sp))\n",
    "\n",
    "waypoints = [[0,50,2], [50,50,2], [50,0,2], [25,-25,2]]\n",
    "traj = GuidedTrajectory(env.vehicle, waypoints, proximity=2)\n",
    "# traj = Trajectory(env.vehicle, waypoints, proximity=2, resolution=None)\n",
    "log = run_sim(env, traj)"
   ]
  },
  {
   "cell_type": "code",
   "execution_count": null,
   "id": "2d1b0058",
   "metadata": {
    "hidden": true,
    "scrolled": false
   },
   "outputs": [],
   "source": [
    "plt.plot(log.currents, ls=':')\n",
    "plt.ylabel('Motor current /A')\n",
    "plt.xlabel('Time /ms')\n",
    "plt.title('Individual motor currents')"
   ]
  },
  {
   "cell_type": "code",
   "execution_count": null,
   "id": "f0aa49e1",
   "metadata": {
    "hidden": true,
    "scrolled": false
   },
   "outputs": [],
   "source": [
    "plt.plot(log.voltages, ls=':')\n",
    "plt.ylim(0, 30)\n",
    "plt.ylabel('Motor voltage /A')\n",
    "plt.xlabel('Time /ms')\n",
    "plt.title('Voltages')"
   ]
  },
  {
   "cell_type": "code",
   "execution_count": null,
   "id": "5d64dbce",
   "metadata": {
    "hidden": true,
    "scrolled": false
   },
   "outputs": [],
   "source": [
    "plot_trajectory(traj.trajs[-1], dt=0.1)"
   ]
  },
  {
   "cell_type": "code",
   "execution_count": null,
   "id": "81a8043e",
   "metadata": {
    "hidden": true,
    "scrolled": true
   },
   "outputs": [],
   "source": [
    "%matplotlib inline\n",
    "plt.figure(figsize=(21,10.5))\n",
    "plot_grid = (3,3)\n",
    "plt.subplot(*plot_grid,1)\n",
    "\n",
    "n = len(log)\n",
    "\n",
    "plt.plot(log.x, label='x', c='r')\n",
    "plt.plot(log.target[:, 0], c='r', ls=':')\n",
    "plt.plot(log.y, label='y', c='g')\n",
    "plt.plot(log.target[:, 1], c='g', ls=':')\n",
    "plt.plot(log.z, label='z', c='b')\n",
    "lines = plt.gca().lines[::2]\n",
    "plt.ylabel('Position /m')\n",
    "plt.twinx()\n",
    "plt.plot(log.roll * (180 / np.pi), label='roll', c='c', ls=':')\n",
    "plt.plot(log.pitch * (180 / np.pi), label='pitch', c='m', ls=':')\n",
    "plt.plot(log.yaw * (180 / np.pi), label='yaw', c='y', ls=':')\n",
    "plt.ylabel('Orientation /deg')\n",
    "plt.legend(handles=plt.gca().lines + lines, ncol=2)\n",
    "plt.title('Position and Orientation')\n",
    "\n",
    "plt.subplot(*plot_grid,2)\n",
    "for i in range(log.speeds.shape[1]):\n",
    "    l, = plt.plot(log.speeds[:,i], label='prop %d' % i)\n",
    "#     plt.plot(speeds[:,i], c=l.get_c())\n",
    "lines = plt.gca().lines\n",
    "plt.legend(handles=lines, ncol=2)\n",
    "plt.title('Motor speeds /RPM')\n",
    "\n",
    "\n",
    "plt.subplot(*plot_grid,3)\n",
    "v_world = np.zeros_like(log.velocity)\n",
    "for i, (v, o) in enumerate(zip(log.velocity, log.orientation)):\n",
    "    dcm = direction_cosine_matrix(*o)\n",
    "    v_world[i] = body_to_inertial(v, dcm)\n",
    "for i, c, a in zip(range(3), 'rgb', 'xyz'):\n",
    "    plt.plot(v_world[:,i], label='Velocity %s' % a, c=c)\n",
    "#     plt.plot(velocities[:,i], label='Velocity %s' % a, c=c)\n",
    "plt.legend()\n",
    "plt.title('Velocities')\n",
    "\n",
    "plt.subplot(*plot_grid,4)\n",
    "plt.title('Controller allocated dynamics')\n",
    "l = plt.plot(log.actions[:,0], label='Ctrl Thrust')\n",
    "plt.ylabel('Force /N')\n",
    "plt.twinx()\n",
    "for i, c, a in zip(range(3), 'rgb', 'xyz'):\n",
    "    plt.plot(log.actions[:,1+i], label='Ctrl Torque %s' % a, c=c)\n",
    "plt.ylabel('Torque /Nm')\n",
    "plt.legend(handles=plt.gca().lines + l, ncol=2)\n",
    "\n",
    "plt.subplot(*plot_grid,5)\n",
    "lines = plt.plot(log.alloc_errs[:, 0], label='Thrust err', c='b')\n",
    "plt.ylabel('Thrust /N')\n",
    "plt.twinx()\n",
    "plt.plot(log.alloc_errs[:, 1], label='Torque x err', ls=':')\n",
    "plt.plot(log.alloc_errs[:, 2], label='Torque y err', ls=':')\n",
    "plt.plot(log.alloc_errs[:, 3], label='Torque z err', ls=':')\n",
    "plt.legend(handles = plt.gca().lines + lines, ncol=2)\n",
    "plt.ylabel('Torque /Nm')\n",
    "plt.title('Allocation Errors')\n",
    "\n",
    "plt.subplot(*plot_grid,6)\n",
    "plt.plot(log.target[:,0], log.target[:,1], label='Prescribed traj')\n",
    "plt.plot(log.x, log.y, label='Actual traj', ls=':')\n",
    "plt.gca().set_aspect('equal', 'box')\n",
    "plt.title('XY positions /m')\n",
    "plt.legend()\n",
    "\n",
    "plt.tight_layout()"
   ]
  },
  {
   "cell_type": "code",
   "execution_count": null,
   "id": "d9d99572",
   "metadata": {
    "hidden": true
   },
   "outputs": [],
   "source": [
    "%matplotlib notebook\n",
    "fig = plt.figure()\n",
    "xlim = ylim = zlim = (np.min(log.position), np.max(log.position))\n",
    "ax = fig.add_subplot(projection='3d', xlim=xlim, ylim=ylim, zlim=zlim)\n",
    "ax.set_xlabel('x')\n",
    "ax.set_ylabel('y')\n",
    "ax.set_zlabel('z')\n",
    "ax.plot(log.x, log.y, log.z)"
   ]
  }
 ],
 "metadata": {
  "kernelspec": {
   "display_name": "Python 3 (ipykernel)",
   "language": "python",
   "name": "python3"
  },
  "language_info": {
   "codemirror_mode": {
    "name": "ipython",
    "version": 3
   },
   "file_extension": ".py",
   "mimetype": "text/x-python",
   "name": "python",
   "nbconvert_exporter": "python",
   "pygments_lexer": "ipython3",
   "version": "3.9.13"
  },
  "vscode": {
   "interpreter": {
    "hash": "553746a2ac893171982ffcb8d83cc0ca836885831c1ad096aed2033dbb6014ba"
   }
  }
 },
 "nbformat": 4,
 "nbformat_minor": 5
}
